{
 "cells": [
  {
   "cell_type": "code",
   "execution_count": 6,
   "metadata": {
    "colab": {
     "base_uri": "https://localhost:8080/",
     "height": 85
    },
    "colab_type": "code",
    "id": "zZzqF7a1tedv",
    "outputId": "51b9187c-b3bd-43c6-90ec-f34164bfcccd"
   },
   "outputs": [
    {
     "name": "stdout",
     "output_type": "stream",
     "text": [
      "Archive:  test/test.zip\n",
      "replace test/21765.jpg? [y]es, [n]o, [A]ll, [N]one, [r]ename: N\n",
      "Archive:  train/train.zip\n",
      "replace train/00000.jpg? [y]es, [n]o, [A]ll, [N]one, [r]ename: N\n"
     ]
    }
   ],
   "source": [
    "!unzip test/test.zip\n",
    "!unzip train/train.zip"
   ]
  },
  {
   "cell_type": "code",
   "execution_count": 0,
   "metadata": {
    "colab": {},
    "colab_type": "code",
    "id": "BDhdzAAwxTsZ"
   },
   "outputs": [],
   "source": [
    "import numpy as np\n",
    "import pandas as pd\n",
    "import matplotlib.pyplot as plt\n",
    "import cv2\n",
    "import os\n",
    "from tensorflow.keras.applications import DenseNet121\n",
    "from tensorflow.keras.models import Sequential\n",
    "from tensorflow.keras.models import Model\n",
    "from tensorflow.keras import layers, optimizers, activations\n",
    "%matplotlib inline"
   ]
  },
  {
   "cell_type": "code",
   "execution_count": 0,
   "metadata": {
    "colab": {},
    "colab_type": "code",
    "id": "NoR7Pd3b0uz6"
   },
   "outputs": [],
   "source": [
    "img = cv2.imread('train/00000.jpg')"
   ]
  },
  {
   "cell_type": "code",
   "execution_count": 9,
   "metadata": {
    "colab": {
     "base_uri": "https://localhost:8080/",
     "height": 285
    },
    "colab_type": "code",
    "id": "TvKy-iSV0y5s",
    "outputId": "4138d39b-34c5-4558-9137-0cc9c2a47274"
   },
   "outputs": [
    {
     "name": "stdout",
     "output_type": "stream",
     "text": [
      "(128, 128, 3)\n"
     ]
    },
    {
     "data": {
      "image/png": "[encoded data removed]",
      "text/plain": [
       "<Figure size 432x288 with 1 Axes>"
      ]
     },
     "metadata": {
      "tags": []
     },
     "output_type": "display_data"
    }
   ],
   "source": [
    "plt.imshow(img)\n",
    "print(img.shape)"
   ]
  },
  {
   "cell_type": "code",
   "execution_count": 0,
   "metadata": {
    "colab": {},
    "colab_type": "code",
    "id": "O7WTci1_03_u"
   },
   "outputs": [],
   "source": [
    "def load_images_from_folder(folder):\n",
    "  images = []\n",
    "  file_paths = []\n",
    "  for imgname in os.listdir(folder):\n",
    "    if imgname=='.ipynb_checkpoints':\n",
    "      continue\n",
    "    file_paths.append(os.path.join(folder,imgname))\n",
    "  file_paths = sorted(file_paths)\n",
    "  for file_path in file_paths:\n",
    "    img = cv2.imread(os.path.join(file_path))\n",
    "    if img is not None:\n",
    "      images.append(img)\n",
    "  return images, file_paths"
   ]
  },
  {
   "cell_type": "code",
   "execution_count": 0,
   "metadata": {
    "colab": {},
    "colab_type": "code",
    "id": "Yu_JF5xY06nX"
   },
   "outputs": [],
   "source": [
    "X_train, file_paths = load_images_from_folder(\"train\")\n",
    "X_test, _ = load_images_from_folder(\"test\")\n",
    "y_train_df = pd.read_csv(\"train_labels.csv\")"
   ]
  },
  {
   "cell_type": "code",
   "execution_count": 13,
   "metadata": {
    "colab": {
     "base_uri": "https://localhost:8080/",
     "height": 204
    },
    "colab_type": "code",
    "id": "zqfIw6Lc07qo",
    "outputId": "d6a6dc7a-3cad-422f-828d-5e9e725824eb"
   },
   "outputs": [
    {
     "data": {
      "text/html": [
       "<div>\n",
       "<style scoped>\n",
       "    .dataframe tbody tr th:only-of-type {\n",
       "        vertical-align: middle;\n",
       "    }\n",
       "\n",
       "    .dataframe tbody tr th {\n",
       "        vertical-align: top;\n",
       "    }\n",
       "\n",
       "    .dataframe thead th {\n",
       "        text-align: right;\n",
       "    }\n",
       "</style>\n",
       "<table border=\"1\" class=\"dataframe\">\n",
       "  <thead>\n",
       "    <tr style=\"text-align: right;\">\n",
       "      <th></th>\n",
       "      <th>filename</th>\n",
       "      <th>infected</th>\n",
       "    </tr>\n",
       "  </thead>\n",
       "  <tbody>\n",
       "    <tr>\n",
       "      <th>0</th>\n",
       "      <td>00000.jpg</td>\n",
       "      <td>1</td>\n",
       "    </tr>\n",
       "    <tr>\n",
       "      <th>1</th>\n",
       "      <td>00001.jpg</td>\n",
       "      <td>1</td>\n",
       "    </tr>\n",
       "    <tr>\n",
       "      <th>2</th>\n",
       "      <td>00002.jpg</td>\n",
       "      <td>1</td>\n",
       "    </tr>\n",
       "    <tr>\n",
       "      <th>3</th>\n",
       "      <td>00003.jpg</td>\n",
       "      <td>0</td>\n",
       "    </tr>\n",
       "    <tr>\n",
       "      <th>4</th>\n",
       "      <td>00004.jpg</td>\n",
       "      <td>0</td>\n",
       "    </tr>\n",
       "  </tbody>\n",
       "</table>\n",
       "</div>"
      ],
      "text/plain": [
       "    filename  infected\n",
       "0  00000.jpg         1\n",
       "1  00001.jpg         1\n",
       "2  00002.jpg         1\n",
       "3  00003.jpg         0\n",
       "4  00004.jpg         0"
      ]
     },
     "execution_count": 13,
     "metadata": {
      "tags": []
     },
     "output_type": "execute_result"
    }
   ],
   "source": [
    "y_train_df.head()"
   ]
  },
  {
   "cell_type": "code",
   "execution_count": 0,
   "metadata": {
    "colab": {},
    "colab_type": "code",
    "id": "UzatJSo-09wJ"
   },
   "outputs": [],
   "source": [
    "X_train = np.array(X_train)\n",
    "X_test = np.array(X_test)\n",
    "y_train = y_train_df['infected'].values"
   ]
  },
  {
   "cell_type": "code",
   "execution_count": 15,
   "metadata": {
    "colab": {
     "base_uri": "https://localhost:8080/",
     "height": 68
    },
    "colab_type": "code",
    "id": "fEqCarTu0-ji",
    "outputId": "6c99c5fe-cd98-42e9-9c31-0cc494c30b6d"
   },
   "outputs": [
    {
     "name": "stdout",
     "output_type": "stream",
     "text": [
      "(21765, 128, 128, 3)\n",
      "(5793, 128, 128, 3)\n",
      "(21765,)\n"
     ]
    }
   ],
   "source": [
    "print(X_train.shape)\n",
    "print(X_test.shape)\n",
    "print(y_train.shape)"
   ]
  },
  {
   "cell_type": "code",
   "execution_count": 0,
   "metadata": {
    "colab": {},
    "colab_type": "code",
    "id": "KDp7ms460_ci"
   },
   "outputs": [],
   "source": [
    "X_train = X_train / 255.0\n",
    "X_test = X_test / 255.0"
   ]
  },
  {
   "cell_type": "markdown",
   "metadata": {
    "colab_type": "text",
    "id": "99IPD9x8ZI6J"
   },
   "source": [
    "# Build model"
   ]
  },
  {
   "cell_type": "code",
   "execution_count": 29,
   "metadata": {
    "colab": {
     "base_uri": "https://localhost:8080/",
     "height": 255
    },
    "colab_type": "code",
    "id": "rvs3CwMnY1Xg",
    "outputId": "d4240612-334d-4a11-e500-1c4f78fef78a"
   },
   "outputs": [
    {
     "name": "stdout",
     "output_type": "stream",
     "text": [
      "Model: \"sequential_4\"\n",
      "_________________________________________________________________\n",
      "Layer (type)                 Output Shape              Param #   \n",
      "=================================================================\n",
      "densenet121 (Model)          (None, 4, 4, 1024)        7037504   \n",
      "_________________________________________________________________\n",
      "global_average_pooling2d_4 ( (None, 1024)              0         \n",
      "_________________________________________________________________\n",
      "dense_4 (Dense)              (None, 1)                 1025      \n",
      "=================================================================\n",
      "Total params: 7,038,529\n",
      "Trainable params: 6,954,881\n",
      "Non-trainable params: 83,648\n",
      "_________________________________________________________________\n"
     ]
    }
   ],
   "source": [
    "model.summary()"
   ]
  },
  {
   "cell_type": "code",
   "execution_count": 17,
   "metadata": {
    "colab": {
     "base_uri": "https://localhost:8080/",
     "height": 1000
    },
    "colab_type": "code",
    "id": "kbhAokEfGBDc",
    "outputId": "afa58a10-7934-4b9c-e640-009d003125f6"
   },
   "outputs": [
    {
     "name": "stdout",
     "output_type": "stream",
     "text": [
      "WARNING:tensorflow:From /usr/local/lib/python3.6/dist-packages/tensorflow_core/python/ops/resource_variable_ops.py:1630: calling BaseResourceVariable.__init__ (from tensorflow.python.ops.resource_variable_ops) with constraint is deprecated and will be removed in a future version.\n",
      "Instructions for updating:\n",
      "If using Keras pass *_constraint arguments to layers.\n",
      "WARNING:tensorflow:From /usr/local/lib/python3.6/dist-packages/tensorflow_core/python/ops/nn_impl.py:183: where (from tensorflow.python.ops.array_ops) is deprecated and will be removed in a future version.\n",
      "Instructions for updating:\n",
      "Use tf.where in 2.0, which has the same broadcast rule as np.where\n",
      "Train on 20676 samples, validate on 1089 samples\n",
      "Epoch 1/15\n",
      "20676/20676 [==============================] - 78s 4ms/sample - loss: 0.2288 - acc: 0.9130 - val_loss: 1.7492 - val_acc: 0.6318\n",
      "Epoch 2/15\n",
      "20676/20676 [==============================] - 56s 3ms/sample - loss: 0.1346 - acc: 0.9557 - val_loss: 0.1487 - val_acc: 0.9660\n",
      "Epoch 3/15\n",
      "20676/20676 [==============================] - 56s 3ms/sample - loss: 0.1277 - acc: 0.9577 - val_loss: 0.1586 - val_acc: 0.9486\n",
      "Epoch 4/15\n",
      "20676/20676 [==============================] - 56s 3ms/sample - loss: 0.1224 - acc: 0.9580 - val_loss: 0.4164 - val_acc: 0.8962\n",
      "Epoch 5/15\n",
      "20676/20676 [==============================] - 56s 3ms/sample - loss: 0.1331 - acc: 0.9542 - val_loss: 0.1107 - val_acc: 0.9669\n",
      "Epoch 6/15\n",
      "20676/20676 [==============================] - 56s 3ms/sample - loss: 0.1140 - acc: 0.9614 - val_loss: 0.1088 - val_acc: 0.9669\n",
      "Epoch 7/15\n",
      "20676/20676 [==============================] - 56s 3ms/sample - loss: 0.1115 - acc: 0.9622 - val_loss: 0.1178 - val_acc: 0.9633\n",
      "Epoch 8/15\n",
      "20676/20676 [==============================] - 56s 3ms/sample - loss: 0.1060 - acc: 0.9628 - val_loss: 0.1256 - val_acc: 0.9568\n",
      "Epoch 9/15\n",
      "20676/20676 [==============================] - 56s 3ms/sample - loss: 0.1060 - acc: 0.9637 - val_loss: 0.1688 - val_acc: 0.9495\n",
      "Epoch 10/15\n",
      "20676/20676 [==============================] - 56s 3ms/sample - loss: 0.0981 - acc: 0.9648 - val_loss: 0.1384 - val_acc: 0.9486\n",
      "Epoch 11/15\n",
      "20676/20676 [==============================] - 56s 3ms/sample - loss: 0.0962 - acc: 0.9647 - val_loss: 0.1093 - val_acc: 0.9697\n",
      "Epoch 12/15\n",
      "20676/20676 [==============================] - 56s 3ms/sample - loss: 0.0949 - acc: 0.9665 - val_loss: 0.1195 - val_acc: 0.9669\n",
      "Epoch 13/15\n",
      "20676/20676 [==============================] - 56s 3ms/sample - loss: 0.0964 - acc: 0.9666 - val_loss: 0.1970 - val_acc: 0.9421\n",
      "Epoch 14/15\n",
      "20676/20676 [==============================] - 56s 3ms/sample - loss: 0.0955 - acc: 0.9660 - val_loss: 0.0976 - val_acc: 0.9715\n",
      "Epoch 15/15\n",
      "20676/20676 [==============================] - 56s 3ms/sample - loss: 0.0867 - acc: 0.9680 - val_loss: 0.2962 - val_acc: 0.9082\n",
      "Train on 20676 samples, validate on 1089 samples\n",
      "Epoch 1/17\n",
      "20676/20676 [==============================] - 73s 4ms/sample - loss: 0.2735 - acc: 0.8827 - val_loss: 0.6941 - val_acc: 0.8724\n",
      "Epoch 2/17\n",
      "20676/20676 [==============================] - 57s 3ms/sample - loss: 0.1370 - acc: 0.9543 - val_loss: 0.7730 - val_acc: 0.7089\n",
      "Epoch 3/17\n",
      "20676/20676 [==============================] - 57s 3ms/sample - loss: 0.1376 - acc: 0.9529 - val_loss: 0.1627 - val_acc: 0.9532\n",
      "Epoch 4/17\n",
      "20676/20676 [==============================] - 57s 3ms/sample - loss: 0.1236 - acc: 0.9579 - val_loss: 0.1271 - val_acc: 0.9587\n",
      "Epoch 5/17\n",
      "20676/20676 [==============================] - 57s 3ms/sample - loss: 0.1202 - acc: 0.9590 - val_loss: 0.1570 - val_acc: 0.9449\n",
      "Epoch 6/17\n",
      "20676/20676 [==============================] - 57s 3ms/sample - loss: 0.1142 - acc: 0.9608 - val_loss: 0.1056 - val_acc: 0.9669\n",
      "Epoch 7/17\n",
      "20676/20676 [==============================] - 57s 3ms/sample - loss: 0.1112 - acc: 0.9609 - val_loss: 0.1271 - val_acc: 0.9532\n",
      "Epoch 8/17\n",
      "20676/20676 [==============================] - 57s 3ms/sample - loss: 0.1033 - acc: 0.9639 - val_loss: 0.1056 - val_acc: 0.9706\n",
      "Epoch 9/17\n",
      "20676/20676 [==============================] - 57s 3ms/sample - loss: 0.1045 - acc: 0.9635 - val_loss: 0.2573 - val_acc: 0.8935\n",
      "Epoch 10/17\n",
      "20676/20676 [==============================] - 57s 3ms/sample - loss: 0.1144 - acc: 0.9577 - val_loss: 0.1638 - val_acc: 0.9477\n",
      "Epoch 11/17\n",
      "20676/20676 [==============================] - 57s 3ms/sample - loss: 0.1000 - acc: 0.9641 - val_loss: 0.1933 - val_acc: 0.9412\n",
      "Epoch 12/17\n",
      "20676/20676 [==============================] - 57s 3ms/sample - loss: 0.0983 - acc: 0.9654 - val_loss: 0.1253 - val_acc: 0.9605\n",
      "Epoch 13/17\n",
      "20676/20676 [==============================] - 57s 3ms/sample - loss: 0.0943 - acc: 0.9662 - val_loss: 0.1339 - val_acc: 0.9541\n",
      "Epoch 14/17\n",
      "20676/20676 [==============================] - 57s 3ms/sample - loss: 0.0886 - acc: 0.9675 - val_loss: 0.1578 - val_acc: 0.9605\n",
      "Epoch 15/17\n",
      "20676/20676 [==============================] - 57s 3ms/sample - loss: 0.0898 - acc: 0.9681 - val_loss: 0.1175 - val_acc: 0.9651\n",
      "Epoch 16/17\n",
      "20676/20676 [==============================] - 57s 3ms/sample - loss: 0.0844 - acc: 0.9685 - val_loss: 0.1214 - val_acc: 0.9587\n",
      "Epoch 17/17\n",
      "20676/20676 [==============================] - 57s 3ms/sample - loss: 0.0832 - acc: 0.9700 - val_loss: 0.1475 - val_acc: 0.9624\n",
      "Train on 20676 samples, validate on 1089 samples\n",
      "Epoch 1/19\n",
      "20676/20676 [==============================] - 74s 4ms/sample - loss: 0.2896 - acc: 0.8740 - val_loss: 1.1106 - val_acc: 0.7466\n",
      "Epoch 2/19\n",
      "20676/20676 [==============================] - 56s 3ms/sample - loss: 0.1379 - acc: 0.9547 - val_loss: 0.1908 - val_acc: 0.9394\n",
      "Epoch 3/19\n",
      "20676/20676 [==============================] - 56s 3ms/sample - loss: 0.1289 - acc: 0.9565 - val_loss: 0.1423 - val_acc: 0.9504\n",
      "Epoch 4/19\n",
      "20676/20676 [==============================] - 56s 3ms/sample - loss: 0.1207 - acc: 0.9594 - val_loss: 0.1118 - val_acc: 0.9596\n",
      "Epoch 5/19\n",
      "20676/20676 [==============================] - 56s 3ms/sample - loss: 0.1196 - acc: 0.9592 - val_loss: 0.1380 - val_acc: 0.9605\n",
      "Epoch 6/19\n",
      "20676/20676 [==============================] - 56s 3ms/sample - loss: 0.1136 - acc: 0.9605 - val_loss: 0.1482 - val_acc: 0.9568\n",
      "Epoch 7/19\n",
      "20676/20676 [==============================] - 56s 3ms/sample - loss: 0.1247 - acc: 0.9588 - val_loss: 0.1103 - val_acc: 0.9706\n",
      "Epoch 8/19\n",
      "20676/20676 [==============================] - 56s 3ms/sample - loss: 0.1095 - acc: 0.9631 - val_loss: 0.1392 - val_acc: 0.9596\n",
      "Epoch 9/19\n",
      "20676/20676 [==============================] - 56s 3ms/sample - loss: 0.1069 - acc: 0.9628 - val_loss: 0.1298 - val_acc: 0.9513\n",
      "Epoch 10/19\n",
      "20676/20676 [==============================] - 56s 3ms/sample - loss: 0.1051 - acc: 0.9630 - val_loss: 0.1684 - val_acc: 0.9339\n",
      "Epoch 11/19\n",
      "20676/20676 [==============================] - 56s 3ms/sample - loss: 0.1022 - acc: 0.9647 - val_loss: 0.1707 - val_acc: 0.9385\n",
      "Epoch 12/19\n",
      "20676/20676 [==============================] - 56s 3ms/sample - loss: 0.0992 - acc: 0.9641 - val_loss: 0.4056 - val_acc: 0.8439\n",
      "Epoch 13/19\n",
      "20676/20676 [==============================] - 56s 3ms/sample - loss: 0.0983 - acc: 0.9646 - val_loss: 0.1483 - val_acc: 0.9431\n",
      "Epoch 14/19\n",
      "20676/20676 [==============================] - 56s 3ms/sample - loss: 0.0972 - acc: 0.9650 - val_loss: 0.1235 - val_acc: 0.9605\n",
      "Epoch 15/19\n",
      "20676/20676 [==============================] - 56s 3ms/sample - loss: 0.0893 - acc: 0.9672 - val_loss: 0.1105 - val_acc: 0.9679\n",
      "Epoch 16/19\n",
      "20676/20676 [==============================] - 56s 3ms/sample - loss: 0.0868 - acc: 0.9697 - val_loss: 0.1120 - val_acc: 0.9568\n",
      "Epoch 17/19\n",
      "20676/20676 [==============================] - 56s 3ms/sample - loss: 0.0847 - acc: 0.9686 - val_loss: 0.0910 - val_acc: 0.9734\n",
      "Epoch 18/19\n",
      "20676/20676 [==============================] - 56s 3ms/sample - loss: 0.0813 - acc: 0.9698 - val_loss: 0.1284 - val_acc: 0.9513\n",
      "Epoch 19/19\n",
      "20676/20676 [==============================] - 56s 3ms/sample - loss: 0.0806 - acc: 0.9706 - val_loss: 0.1238 - val_acc: 0.9688\n",
      "Train on 20676 samples, validate on 1089 samples\n",
      "Epoch 1/21\n",
      "20676/20676 [==============================] - 78s 4ms/sample - loss: 0.2631 - acc: 0.8918 - val_loss: 1.0401 - val_acc: 0.7640\n",
      "Epoch 2/21\n",
      "20676/20676 [==============================] - 57s 3ms/sample - loss: 0.1406 - acc: 0.9527 - val_loss: 0.2026 - val_acc: 0.9366\n",
      "Epoch 3/21\n",
      "20676/20676 [==============================] - 57s 3ms/sample - loss: 0.1257 - acc: 0.9565 - val_loss: 0.1190 - val_acc: 0.9605\n",
      "Epoch 4/21\n",
      "20676/20676 [==============================] - 57s 3ms/sample - loss: 0.1198 - acc: 0.9586 - val_loss: 0.1655 - val_acc: 0.9587\n",
      "Epoch 5/21\n",
      "20676/20676 [==============================] - 57s 3ms/sample - loss: 0.1140 - acc: 0.9621 - val_loss: 0.1254 - val_acc: 0.9614\n",
      "Epoch 6/21\n",
      "20676/20676 [==============================] - 57s 3ms/sample - loss: 0.1163 - acc: 0.9621 - val_loss: 0.1717 - val_acc: 0.9348\n",
      "Epoch 7/21\n",
      "20676/20676 [==============================] - 57s 3ms/sample - loss: 0.1361 - acc: 0.9530 - val_loss: 0.1469 - val_acc: 0.9504\n",
      "Epoch 8/21\n",
      "20676/20676 [==============================] - 57s 3ms/sample - loss: 0.1274 - acc: 0.9574 - val_loss: 0.1061 - val_acc: 0.9660\n",
      "Epoch 9/21\n",
      "20676/20676 [==============================] - 57s 3ms/sample - loss: 0.1138 - acc: 0.9590 - val_loss: 0.1035 - val_acc: 0.9688\n",
      "Epoch 10/21\n",
      "20676/20676 [==============================] - 57s 3ms/sample - loss: 0.1069 - acc: 0.9620 - val_loss: 0.1220 - val_acc: 0.9522\n",
      "Epoch 11/21\n",
      "20676/20676 [==============================] - 57s 3ms/sample - loss: 0.1029 - acc: 0.9636 - val_loss: 0.1998 - val_acc: 0.9385\n",
      "Epoch 12/21\n",
      "20676/20676 [==============================] - 57s 3ms/sample - loss: 0.1076 - acc: 0.9626 - val_loss: 0.1085 - val_acc: 0.9660\n",
      "Epoch 13/21\n",
      "20676/20676 [==============================] - 57s 3ms/sample - loss: 0.0960 - acc: 0.9658 - val_loss: 0.1212 - val_acc: 0.9624\n",
      "Epoch 14/21\n",
      "20676/20676 [==============================] - 57s 3ms/sample - loss: 0.0940 - acc: 0.9664 - val_loss: 0.1077 - val_acc: 0.9697\n",
      "Epoch 15/21\n",
      "20676/20676 [==============================] - 57s 3ms/sample - loss: 0.0892 - acc: 0.9678 - val_loss: 0.1262 - val_acc: 0.9568\n",
      "Epoch 16/21\n",
      "20676/20676 [==============================] - 57s 3ms/sample - loss: 0.0874 - acc: 0.9685 - val_loss: 0.1039 - val_acc: 0.9660\n",
      "Epoch 17/21\n",
      "20676/20676 [==============================] - 57s 3ms/sample - loss: 0.0895 - acc: 0.9674 - val_loss: 0.1057 - val_acc: 0.9614\n",
      "Epoch 18/21\n",
      "20676/20676 [==============================] - 57s 3ms/sample - loss: 0.0817 - acc: 0.9690 - val_loss: 0.1026 - val_acc: 0.9633\n",
      "Epoch 19/21\n",
      "20676/20676 [==============================] - 57s 3ms/sample - loss: 0.0790 - acc: 0.9722 - val_loss: 0.1015 - val_acc: 0.9660\n",
      "Epoch 20/21\n",
      "20676/20676 [==============================] - 57s 3ms/sample - loss: 0.0748 - acc: 0.9732 - val_loss: 0.1188 - val_acc: 0.9679\n",
      "Epoch 21/21\n",
      "20676/20676 [==============================] - 57s 3ms/sample - loss: 0.0727 - acc: 0.9730 - val_loss: 0.1570 - val_acc: 0.9376\n",
      "Train on 20676 samples, validate on 1089 samples\n",
      "Epoch 1/23\n",
      "20676/20676 [==============================] - 80s 4ms/sample - loss: 0.2386 - acc: 0.9041 - val_loss: 0.8529 - val_acc: 0.6740\n",
      "Epoch 2/23\n",
      "20676/20676 [==============================] - 59s 3ms/sample - loss: 0.1383 - acc: 0.9532 - val_loss: 0.1586 - val_acc: 0.9440\n",
      "Epoch 3/23\n",
      "20676/20676 [==============================] - 58s 3ms/sample - loss: 0.1268 - acc: 0.9578 - val_loss: 0.3539 - val_acc: 0.8770\n",
      "Epoch 4/23\n",
      "20676/20676 [==============================] - 58s 3ms/sample - loss: 0.1217 - acc: 0.9581 - val_loss: 0.2335 - val_acc: 0.9118\n",
      "Epoch 5/23\n",
      "20676/20676 [==============================] - 59s 3ms/sample - loss: 0.1169 - acc: 0.9592 - val_loss: 0.1937 - val_acc: 0.9504\n",
      "Epoch 6/23\n",
      "20676/20676 [==============================] - 59s 3ms/sample - loss: 0.1108 - acc: 0.9606 - val_loss: 0.1166 - val_acc: 0.9697\n",
      "Epoch 7/23\n",
      "20676/20676 [==============================] - 58s 3ms/sample - loss: 0.1073 - acc: 0.9620 - val_loss: 0.1215 - val_acc: 0.9578\n",
      "Epoch 8/23\n",
      "20676/20676 [==============================] - 59s 3ms/sample - loss: 0.1015 - acc: 0.9642 - val_loss: 0.1390 - val_acc: 0.9532\n",
      "Epoch 9/23\n",
      "20676/20676 [==============================] - 59s 3ms/sample - loss: 0.1161 - acc: 0.9598 - val_loss: 0.1731 - val_acc: 0.9394\n",
      "Epoch 10/23\n",
      "20676/20676 [==============================] - 58s 3ms/sample - loss: 0.0995 - acc: 0.9652 - val_loss: 0.1098 - val_acc: 0.9669\n",
      "Epoch 11/23\n",
      "20676/20676 [==============================] - 59s 3ms/sample - loss: 0.0972 - acc: 0.9653 - val_loss: 0.0975 - val_acc: 0.9669\n",
      "Epoch 12/23\n",
      "20676/20676 [==============================] - 59s 3ms/sample - loss: 0.0925 - acc: 0.9668 - val_loss: 0.3384 - val_acc: 0.8779\n",
      "Epoch 13/23\n",
      "20676/20676 [==============================] - 59s 3ms/sample - loss: 0.1021 - acc: 0.9639 - val_loss: 0.2164 - val_acc: 0.9247\n",
      "Epoch 14/23\n",
      "20676/20676 [==============================] - 59s 3ms/sample - loss: 0.0870 - acc: 0.9689 - val_loss: 0.9768 - val_acc: 0.6171\n",
      "Epoch 15/23\n",
      "20676/20676 [==============================] - 58s 3ms/sample - loss: 0.1119 - acc: 0.9615 - val_loss: 0.1689 - val_acc: 0.9385\n",
      "Epoch 16/23\n",
      "20676/20676 [==============================] - 58s 3ms/sample - loss: 0.0877 - acc: 0.9689 - val_loss: 0.1076 - val_acc: 0.9605\n",
      "Epoch 17/23\n",
      "20676/20676 [==============================] - 58s 3ms/sample - loss: 0.0803 - acc: 0.9703 - val_loss: 0.0957 - val_acc: 0.9715\n",
      "Epoch 18/23\n",
      "20676/20676 [==============================] - 58s 3ms/sample - loss: 0.0749 - acc: 0.9711 - val_loss: 0.1068 - val_acc: 0.9697\n",
      "Epoch 19/23\n",
      "20676/20676 [==============================] - 58s 3ms/sample - loss: 0.0735 - acc: 0.9730 - val_loss: 0.1138 - val_acc: 0.9633\n",
      "Epoch 20/23\n",
      "20676/20676 [==============================] - 58s 3ms/sample - loss: 0.0845 - acc: 0.9693 - val_loss: 0.1239 - val_acc: 0.9559\n",
      "Epoch 21/23\n",
      "20676/20676 [==============================] - 58s 3ms/sample - loss: 0.0653 - acc: 0.9752 - val_loss: 0.1004 - val_acc: 0.9669\n",
      "Epoch 22/23\n",
      "20676/20676 [==============================] - 58s 3ms/sample - loss: 0.0652 - acc: 0.9750 - val_loss: 0.0930 - val_acc: 0.9725\n",
      "Epoch 23/23\n",
      "20676/20676 [==============================] - 58s 3ms/sample - loss: 0.0631 - acc: 0.9762 - val_loss: 0.0939 - val_acc: 0.9697\n"
     ]
    }
   ],
   "source": [
    "num_epochs = [15,17,19,21,23]\n",
    "y_preds = []\n",
    "ensemble_dict = {}\n",
    "\n",
    "for num_epoch in num_epochs:\n",
    "    densenet = DenseNet121(\n",
    "    weights=None,\n",
    "    include_top=False,\n",
    "    input_shape=(128,128,3),\n",
    ")\n",
    "    model = Sequential()\n",
    "    model.add(densenet)\n",
    "    model.add(layers.GlobalAveragePooling2D())\n",
    "    model.add(layers.Dense(1, activation='sigmoid'))\n",
    "\n",
    "    model.compile(optimizer=optimizers.Adam(learning_rate=0.001), loss='binary_crossentropy', metrics=['accuracy'])\n",
    "\n",
    "    history_model1 = model.fit(X_train,\n",
    "                           y_train,\n",
    "                           batch_size=64,\n",
    "                           epochs=num_epoch,\n",
    "                           verbose=1,\n",
    "                           validation_split=0.05,\n",
    "                          )\n",
    "    y_preds.append(model.predict(X_test))"
   ]
  },
  {
   "cell_type": "code",
   "execution_count": 18,
   "metadata": {
    "colab": {
     "base_uri": "https://localhost:8080/",
     "height": 34
    },
    "colab_type": "code",
    "id": "9MLkh44czSE6",
    "outputId": "afdcdd50-36eb-48a8-96b9-68acb92fba8c"
   },
   "outputs": [
    {
     "data": {
      "text/plain": [
       "(5793, 5)"
      ]
     },
     "execution_count": 18,
     "metadata": {
      "tags": []
     },
     "output_type": "execute_result"
    }
   ],
   "source": [
    "preds = np.array(y_preds)\n",
    "preds = preds.reshape((5,-1)).T\n",
    "preds.shape"
   ]
  },
  {
   "cell_type": "code",
   "execution_count": 25,
   "metadata": {
    "colab": {
     "base_uri": "https://localhost:8080/",
     "height": 204
    },
    "colab_type": "code",
    "id": "sEYz1-bCWjgY",
    "outputId": "ce681579-b75b-442f-ac34-7f4073942916"
   },
   "outputs": [
    {
     "data": {
      "text/html": [
       "<div>\n",
       "<style scoped>\n",
       "    .dataframe tbody tr th:only-of-type {\n",
       "        vertical-align: middle;\n",
       "    }\n",
       "\n",
       "    .dataframe tbody tr th {\n",
       "        vertical-align: top;\n",
       "    }\n",
       "\n",
       "    .dataframe thead th {\n",
       "        text-align: right;\n",
       "    }\n",
       "</style>\n",
       "<table border=\"1\" class=\"dataframe\">\n",
       "  <thead>\n",
       "    <tr style=\"text-align: right;\">\n",
       "      <th></th>\n",
       "      <th>15_epochs_pred</th>\n",
       "      <th>17_epochs_pred</th>\n",
       "      <th>19_epochs_pred</th>\n",
       "      <th>21_epochs_pred</th>\n",
       "      <th>23_epochs_pred</th>\n",
       "    </tr>\n",
       "  </thead>\n",
       "  <tbody>\n",
       "    <tr>\n",
       "      <th>0</th>\n",
       "      <td>0.120005</td>\n",
       "      <td>0.024495</td>\n",
       "      <td>0.210512</td>\n",
       "      <td>0.378962</td>\n",
       "      <td>0.126046</td>\n",
       "    </tr>\n",
       "    <tr>\n",
       "      <th>1</th>\n",
       "      <td>0.988582</td>\n",
       "      <td>0.998775</td>\n",
       "      <td>0.999992</td>\n",
       "      <td>0.990500</td>\n",
       "      <td>0.999962</td>\n",
       "    </tr>\n",
       "    <tr>\n",
       "      <th>2</th>\n",
       "      <td>0.069110</td>\n",
       "      <td>0.046302</td>\n",
       "      <td>0.032135</td>\n",
       "      <td>0.426586</td>\n",
       "      <td>0.001585</td>\n",
       "    </tr>\n",
       "    <tr>\n",
       "      <th>3</th>\n",
       "      <td>0.000220</td>\n",
       "      <td>0.000298</td>\n",
       "      <td>0.009357</td>\n",
       "      <td>0.003934</td>\n",
       "      <td>0.002482</td>\n",
       "    </tr>\n",
       "    <tr>\n",
       "      <th>4</th>\n",
       "      <td>0.000094</td>\n",
       "      <td>0.000044</td>\n",
       "      <td>0.000297</td>\n",
       "      <td>0.000924</td>\n",
       "      <td>0.000746</td>\n",
       "    </tr>\n",
       "  </tbody>\n",
       "</table>\n",
       "</div>"
      ],
      "text/plain": [
       "   15_epochs_pred  17_epochs_pred  ...  21_epochs_pred  23_epochs_pred\n",
       "0        0.120005        0.024495  ...        0.378962        0.126046\n",
       "1        0.988582        0.998775  ...        0.990500        0.999962\n",
       "2        0.069110        0.046302  ...        0.426586        0.001585\n",
       "3        0.000220        0.000298  ...        0.003934        0.002482\n",
       "4        0.000094        0.000044  ...        0.000924        0.000746\n",
       "\n",
       "[5 rows x 5 columns]"
      ]
     },
     "execution_count": 25,
     "metadata": {
      "tags": []
     },
     "output_type": "execute_result"
    }
   ],
   "source": [
    "y_test_pred_proba_df = pd.DataFrame(preds, columns=[str(num_epoch)+\"_epochs_pred\" for num_epoch in num_epochs])\n",
    "y_test_pred_proba_df.to_csv(\"y_test_pred_proba\", index=False)\n",
    "y_test_pred_proba_df.head()"
   ]
  },
  {
   "cell_type": "markdown",
   "metadata": {
    "colab_type": "text",
    "id": "KeG-FgIJX2Rv"
   },
   "source": [
    "# Averaging ensemble"
   ]
  },
  {
   "cell_type": "code",
   "execution_count": 28,
   "metadata": {
    "colab": {
     "base_uri": "https://localhost:8080/",
     "height": 204
    },
    "colab_type": "code",
    "id": "E5R0TRbOXL5s",
    "outputId": "374b1581-0216-4a51-c871-f4bc51babe6a"
   },
   "outputs": [
    {
     "data": {
      "text/html": [
       "<div>\n",
       "<style scoped>\n",
       "    .dataframe tbody tr th:only-of-type {\n",
       "        vertical-align: middle;\n",
       "    }\n",
       "\n",
       "    .dataframe tbody tr th {\n",
       "        vertical-align: top;\n",
       "    }\n",
       "\n",
       "    .dataframe thead th {\n",
       "        text-align: right;\n",
       "    }\n",
       "</style>\n",
       "<table border=\"1\" class=\"dataframe\">\n",
       "  <thead>\n",
       "    <tr style=\"text-align: right;\">\n",
       "      <th></th>\n",
       "      <th>15_epochs_pred</th>\n",
       "      <th>17_epochs_pred</th>\n",
       "      <th>19_epochs_pred</th>\n",
       "      <th>21_epochs_pred</th>\n",
       "      <th>23_epochs_pred</th>\n",
       "      <th>average</th>\n",
       "    </tr>\n",
       "  </thead>\n",
       "  <tbody>\n",
       "    <tr>\n",
       "      <th>0</th>\n",
       "      <td>0.120005</td>\n",
       "      <td>0.024495</td>\n",
       "      <td>0.210512</td>\n",
       "      <td>0.378962</td>\n",
       "      <td>0.126046</td>\n",
       "      <td>0.172004</td>\n",
       "    </tr>\n",
       "    <tr>\n",
       "      <th>1</th>\n",
       "      <td>0.988582</td>\n",
       "      <td>0.998775</td>\n",
       "      <td>0.999992</td>\n",
       "      <td>0.990500</td>\n",
       "      <td>0.999962</td>\n",
       "      <td>0.995562</td>\n",
       "    </tr>\n",
       "    <tr>\n",
       "      <th>2</th>\n",
       "      <td>0.069110</td>\n",
       "      <td>0.046302</td>\n",
       "      <td>0.032135</td>\n",
       "      <td>0.426586</td>\n",
       "      <td>0.001585</td>\n",
       "      <td>0.115143</td>\n",
       "    </tr>\n",
       "    <tr>\n",
       "      <th>3</th>\n",
       "      <td>0.000220</td>\n",
       "      <td>0.000298</td>\n",
       "      <td>0.009357</td>\n",
       "      <td>0.003934</td>\n",
       "      <td>0.002482</td>\n",
       "      <td>0.003258</td>\n",
       "    </tr>\n",
       "    <tr>\n",
       "      <th>4</th>\n",
       "      <td>0.000094</td>\n",
       "      <td>0.000044</td>\n",
       "      <td>0.000297</td>\n",
       "      <td>0.000924</td>\n",
       "      <td>0.000746</td>\n",
       "      <td>0.000421</td>\n",
       "    </tr>\n",
       "  </tbody>\n",
       "</table>\n",
       "</div>"
      ],
      "text/plain": [
       "   15_epochs_pred  17_epochs_pred  ...  23_epochs_pred   average\n",
       "0        0.120005        0.024495  ...        0.126046  0.172004\n",
       "1        0.988582        0.998775  ...        0.999962  0.995562\n",
       "2        0.069110        0.046302  ...        0.001585  0.115143\n",
       "3        0.000220        0.000298  ...        0.002482  0.003258\n",
       "4        0.000094        0.000044  ...        0.000746  0.000421\n",
       "\n",
       "[5 rows x 6 columns]"
      ]
     },
     "execution_count": 28,
     "metadata": {
      "tags": []
     },
     "output_type": "execute_result"
    }
   ],
   "source": [
    "y_test_pred_proba_df['average'] = y_test_pred_proba_df.mean(axis=1)\n",
    "y_test_pred_proba_df.head()"
   ]
  },
  {
   "cell_type": "markdown",
   "metadata": {
    "colab_type": "text",
    "id": "cVoWj2KlZRy8"
   },
   "source": [
    "# Get submission"
   ]
  },
  {
   "cell_type": "code",
   "execution_count": 0,
   "metadata": {
    "colab": {},
    "colab_type": "code",
    "id": "odx9wTApZSie"
   },
   "outputs": [],
   "source": [
    "filenames = []\n",
    "for filename in os.listdir(\"test\"):\n",
    "    if filename != 'test.zip':\n",
    "      filenames.append(filename)"
   ]
  },
  {
   "cell_type": "code",
   "execution_count": 0,
   "metadata": {
    "colab": {},
    "colab_type": "code",
    "id": "y3roDO1TaLz9"
   },
   "outputs": [],
   "source": [
    "y_test_pred_proba_df['filename'] = sorted(filenames)"
   ]
  }
 ],
 "metadata": {
  "accelerator": "GPU",
  "colab": {
   "collapsed_sections": [],
   "machine_shape": "hm",
   "name": "identifying_malaria.ipynb",
   "provenance": []
  },
  "kernelspec": {
   "display_name": "Python 3",
   "language": "python",
   "name": "python3"
  },
  "language_info": {
   "codemirror_mode": {
    "name": "ipython",
    "version": 3
   },
   "file_extension": ".py",
   "mimetype": "text/x-python",
   "name": "python",
   "nbconvert_exporter": "python",
   "pygments_lexer": "ipython3",
   "version": "3.7.5"
  }
 },
 "nbformat": 4,
 "nbformat_minor": 1
}
